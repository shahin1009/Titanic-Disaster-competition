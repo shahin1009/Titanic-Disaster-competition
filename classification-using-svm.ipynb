{
 "cells": [
  {
   "cell_type": "code",
   "execution_count": 5,
   "id": "ef66d14c",
   "metadata": {
    "execution": {
     "iopub.execute_input": "2023-03-04T16:58:09.056596Z",
     "iopub.status.busy": "2023-03-04T16:58:09.056196Z",
     "iopub.status.idle": "2023-03-04T16:58:10.471367Z",
     "shell.execute_reply": "2023-03-04T16:58:10.470236Z"
    },
    "id": "6R7IjQZbc_tK",
    "papermill": {
     "duration": 1.428369,
     "end_time": "2023-03-04T16:58:10.474412",
     "exception": false,
     "start_time": "2023-03-04T16:58:09.046043",
     "status": "completed"
    },
    "tags": []
   },
   "outputs": [],
   "source": [
    "import matplotlib.pyplot as plt\n",
    "import matplotlib as mpl\n",
    "import pandas as pd\n",
    "import numpy as np\n",
    "mpl.rcParams['figure.figsize'] = (12,8)\n",
    "\n",
    "from sklearn.metrics import accuracy_score, classification_report\n",
    "from sklearn.model_selection import train_test_split,KFold,StratifiedKFold\n",
    "from sklearn.feature_selection import SelectKBest,f_classif\n",
    "from sklearn.linear_model import LogisticRegression\n",
    "from sklearn.feature_selection import RFECV\n",
    "from sklearn.svm import SVC"
   ]
  },
  {
   "attachments": {},
   "cell_type": "markdown",
   "id": "a86588f0",
   "metadata": {},
   "source": [
    "## Import Data"
   ]
  },
  {
   "cell_type": "code",
   "execution_count": 6,
   "id": "a6e1466b",
   "metadata": {
    "execution": {
     "iopub.execute_input": "2023-03-04T16:58:10.490391Z",
     "iopub.status.busy": "2023-03-04T16:58:10.489996Z",
     "iopub.status.idle": "2023-03-04T16:58:10.586519Z",
     "shell.execute_reply": "2023-03-04T16:58:10.585241Z"
    },
    "id": "kGTZNvZkdQO7",
    "papermill": {
     "duration": 0.107883,
     "end_time": "2023-03-04T16:58:10.589487",
     "exception": false,
     "start_time": "2023-03-04T16:58:10.481604",
     "status": "completed"
    },
    "tags": []
   },
   "outputs": [
    {
     "data": {
      "text/html": [
       "<div>\n",
       "<style scoped>\n",
       "    .dataframe tbody tr th:only-of-type {\n",
       "        vertical-align: middle;\n",
       "    }\n",
       "\n",
       "    .dataframe tbody tr th {\n",
       "        vertical-align: top;\n",
       "    }\n",
       "\n",
       "    .dataframe thead th {\n",
       "        text-align: right;\n",
       "    }\n",
       "</style>\n",
       "<table border=\"1\" class=\"dataframe\">\n",
       "  <thead>\n",
       "    <tr style=\"text-align: right;\">\n",
       "      <th></th>\n",
       "      <th>Survived</th>\n",
       "      <th>Pclass</th>\n",
       "      <th>Age</th>\n",
       "      <th>SibSp</th>\n",
       "      <th>Parch</th>\n",
       "      <th>Fare</th>\n",
       "    </tr>\n",
       "  </thead>\n",
       "  <tbody>\n",
       "    <tr>\n",
       "      <th>count</th>\n",
       "      <td>891.000000</td>\n",
       "      <td>891.000000</td>\n",
       "      <td>714.000000</td>\n",
       "      <td>891.000000</td>\n",
       "      <td>891.000000</td>\n",
       "      <td>891.000000</td>\n",
       "    </tr>\n",
       "    <tr>\n",
       "      <th>mean</th>\n",
       "      <td>0.383838</td>\n",
       "      <td>2.308642</td>\n",
       "      <td>29.699118</td>\n",
       "      <td>0.523008</td>\n",
       "      <td>0.381594</td>\n",
       "      <td>32.204208</td>\n",
       "    </tr>\n",
       "    <tr>\n",
       "      <th>std</th>\n",
       "      <td>0.486592</td>\n",
       "      <td>0.836071</td>\n",
       "      <td>14.526497</td>\n",
       "      <td>1.102743</td>\n",
       "      <td>0.806057</td>\n",
       "      <td>49.693429</td>\n",
       "    </tr>\n",
       "    <tr>\n",
       "      <th>min</th>\n",
       "      <td>0.000000</td>\n",
       "      <td>1.000000</td>\n",
       "      <td>0.420000</td>\n",
       "      <td>0.000000</td>\n",
       "      <td>0.000000</td>\n",
       "      <td>0.000000</td>\n",
       "    </tr>\n",
       "    <tr>\n",
       "      <th>25%</th>\n",
       "      <td>0.000000</td>\n",
       "      <td>2.000000</td>\n",
       "      <td>20.125000</td>\n",
       "      <td>0.000000</td>\n",
       "      <td>0.000000</td>\n",
       "      <td>7.910400</td>\n",
       "    </tr>\n",
       "    <tr>\n",
       "      <th>50%</th>\n",
       "      <td>0.000000</td>\n",
       "      <td>3.000000</td>\n",
       "      <td>28.000000</td>\n",
       "      <td>0.000000</td>\n",
       "      <td>0.000000</td>\n",
       "      <td>14.454200</td>\n",
       "    </tr>\n",
       "    <tr>\n",
       "      <th>75%</th>\n",
       "      <td>1.000000</td>\n",
       "      <td>3.000000</td>\n",
       "      <td>38.000000</td>\n",
       "      <td>1.000000</td>\n",
       "      <td>0.000000</td>\n",
       "      <td>31.000000</td>\n",
       "    </tr>\n",
       "    <tr>\n",
       "      <th>max</th>\n",
       "      <td>1.000000</td>\n",
       "      <td>3.000000</td>\n",
       "      <td>80.000000</td>\n",
       "      <td>8.000000</td>\n",
       "      <td>6.000000</td>\n",
       "      <td>512.329200</td>\n",
       "    </tr>\n",
       "  </tbody>\n",
       "</table>\n",
       "</div>"
      ],
      "text/plain": [
       "         Survived      Pclass         Age       SibSp       Parch        Fare\n",
       "count  891.000000  891.000000  714.000000  891.000000  891.000000  891.000000\n",
       "mean     0.383838    2.308642   29.699118    0.523008    0.381594   32.204208\n",
       "std      0.486592    0.836071   14.526497    1.102743    0.806057   49.693429\n",
       "min      0.000000    1.000000    0.420000    0.000000    0.000000    0.000000\n",
       "25%      0.000000    2.000000   20.125000    0.000000    0.000000    7.910400\n",
       "50%      0.000000    3.000000   28.000000    0.000000    0.000000   14.454200\n",
       "75%      1.000000    3.000000   38.000000    1.000000    0.000000   31.000000\n",
       "max      1.000000    3.000000   80.000000    8.000000    6.000000  512.329200"
      ]
     },
     "execution_count": 6,
     "metadata": {},
     "output_type": "execute_result"
    }
   ],
   "source": [
    "# parent_path = '/kaggle/input/titanic/'\n",
    "parent_path = ''\n",
    "data_ = pd.read_csv(parent_path+'train.csv').set_index('PassengerId')\n",
    "\n",
    "df_test = pd.read_csv(parent_path+'test.csv').set_index('PassengerId')\n",
    "data_.describe()"
   ]
  },
  {
   "cell_type": "code",
   "execution_count": 3,
   "id": "bca9e774",
   "metadata": {
    "execution": {
     "iopub.execute_input": "2023-03-04T16:58:10.606018Z",
     "iopub.status.busy": "2023-03-04T16:58:10.605583Z",
     "iopub.status.idle": "2023-03-04T16:58:10.623347Z",
     "shell.execute_reply": "2023-03-04T16:58:10.621987Z"
    },
    "papermill": {
     "duration": 0.029021,
     "end_time": "2023-03-04T16:58:10.626027",
     "exception": false,
     "start_time": "2023-03-04T16:58:10.597006",
     "status": "completed"
    },
    "tags": []
   },
   "outputs": [
    {
     "data": {
      "text/html": [
       "<div>\n",
       "<style scoped>\n",
       "    .dataframe tbody tr th:only-of-type {\n",
       "        vertical-align: middle;\n",
       "    }\n",
       "\n",
       "    .dataframe tbody tr th {\n",
       "        vertical-align: top;\n",
       "    }\n",
       "\n",
       "    .dataframe thead th {\n",
       "        text-align: right;\n",
       "    }\n",
       "</style>\n",
       "<table border=\"1\" class=\"dataframe\">\n",
       "  <thead>\n",
       "    <tr style=\"text-align: right;\">\n",
       "      <th></th>\n",
       "      <th>Survived</th>\n",
       "      <th>Pclass</th>\n",
       "      <th>Name</th>\n",
       "      <th>Sex</th>\n",
       "      <th>Age</th>\n",
       "      <th>SibSp</th>\n",
       "      <th>Parch</th>\n",
       "      <th>Ticket</th>\n",
       "      <th>Fare</th>\n",
       "      <th>Cabin</th>\n",
       "      <th>Embarked</th>\n",
       "    </tr>\n",
       "    <tr>\n",
       "      <th>PassengerId</th>\n",
       "      <th></th>\n",
       "      <th></th>\n",
       "      <th></th>\n",
       "      <th></th>\n",
       "      <th></th>\n",
       "      <th></th>\n",
       "      <th></th>\n",
       "      <th></th>\n",
       "      <th></th>\n",
       "      <th></th>\n",
       "      <th></th>\n",
       "    </tr>\n",
       "  </thead>\n",
       "  <tbody>\n",
       "    <tr>\n",
       "      <th>1</th>\n",
       "      <td>0</td>\n",
       "      <td>3</td>\n",
       "      <td>Braund, Mr. Owen Harris</td>\n",
       "      <td>male</td>\n",
       "      <td>22.0</td>\n",
       "      <td>1</td>\n",
       "      <td>0</td>\n",
       "      <td>A/5 21171</td>\n",
       "      <td>7.2500</td>\n",
       "      <td>NaN</td>\n",
       "      <td>S</td>\n",
       "    </tr>\n",
       "    <tr>\n",
       "      <th>2</th>\n",
       "      <td>1</td>\n",
       "      <td>1</td>\n",
       "      <td>Cumings, Mrs. John Bradley (Florence Briggs Th...</td>\n",
       "      <td>female</td>\n",
       "      <td>38.0</td>\n",
       "      <td>1</td>\n",
       "      <td>0</td>\n",
       "      <td>PC 17599</td>\n",
       "      <td>71.2833</td>\n",
       "      <td>C85</td>\n",
       "      <td>C</td>\n",
       "    </tr>\n",
       "    <tr>\n",
       "      <th>3</th>\n",
       "      <td>1</td>\n",
       "      <td>3</td>\n",
       "      <td>Heikkinen, Miss. Laina</td>\n",
       "      <td>female</td>\n",
       "      <td>26.0</td>\n",
       "      <td>0</td>\n",
       "      <td>0</td>\n",
       "      <td>STON/O2. 3101282</td>\n",
       "      <td>7.9250</td>\n",
       "      <td>NaN</td>\n",
       "      <td>S</td>\n",
       "    </tr>\n",
       "    <tr>\n",
       "      <th>4</th>\n",
       "      <td>1</td>\n",
       "      <td>1</td>\n",
       "      <td>Futrelle, Mrs. Jacques Heath (Lily May Peel)</td>\n",
       "      <td>female</td>\n",
       "      <td>35.0</td>\n",
       "      <td>1</td>\n",
       "      <td>0</td>\n",
       "      <td>113803</td>\n",
       "      <td>53.1000</td>\n",
       "      <td>C123</td>\n",
       "      <td>S</td>\n",
       "    </tr>\n",
       "    <tr>\n",
       "      <th>5</th>\n",
       "      <td>0</td>\n",
       "      <td>3</td>\n",
       "      <td>Allen, Mr. William Henry</td>\n",
       "      <td>male</td>\n",
       "      <td>35.0</td>\n",
       "      <td>0</td>\n",
       "      <td>0</td>\n",
       "      <td>373450</td>\n",
       "      <td>8.0500</td>\n",
       "      <td>NaN</td>\n",
       "      <td>S</td>\n",
       "    </tr>\n",
       "  </tbody>\n",
       "</table>\n",
       "</div>"
      ],
      "text/plain": [
       "             Survived  Pclass  \\\n",
       "PassengerId                     \n",
       "1                   0       3   \n",
       "2                   1       1   \n",
       "3                   1       3   \n",
       "4                   1       1   \n",
       "5                   0       3   \n",
       "\n",
       "                                                          Name     Sex   Age  \\\n",
       "PassengerId                                                                    \n",
       "1                                      Braund, Mr. Owen Harris    male  22.0   \n",
       "2            Cumings, Mrs. John Bradley (Florence Briggs Th...  female  38.0   \n",
       "3                                       Heikkinen, Miss. Laina  female  26.0   \n",
       "4                 Futrelle, Mrs. Jacques Heath (Lily May Peel)  female  35.0   \n",
       "5                                     Allen, Mr. William Henry    male  35.0   \n",
       "\n",
       "             SibSp  Parch            Ticket     Fare Cabin Embarked  \n",
       "PassengerId                                                          \n",
       "1                1      0         A/5 21171   7.2500   NaN        S  \n",
       "2                1      0          PC 17599  71.2833   C85        C  \n",
       "3                0      0  STON/O2. 3101282   7.9250   NaN        S  \n",
       "4                1      0            113803  53.1000  C123        S  \n",
       "5                0      0            373450   8.0500   NaN        S  "
      ]
     },
     "execution_count": 3,
     "metadata": {},
     "output_type": "execute_result"
    }
   ],
   "source": [
    "data_.head()"
   ]
  },
  {
   "cell_type": "code",
   "execution_count": 4,
   "id": "9fe0f78c",
   "metadata": {
    "execution": {
     "iopub.execute_input": "2023-03-04T16:58:10.642869Z",
     "iopub.status.busy": "2023-03-04T16:58:10.642410Z",
     "iopub.status.idle": "2023-03-04T16:58:10.671093Z",
     "shell.execute_reply": "2023-03-04T16:58:10.668901Z"
    },
    "papermill": {
     "duration": 0.040562,
     "end_time": "2023-03-04T16:58:10.674138",
     "exception": false,
     "start_time": "2023-03-04T16:58:10.633576",
     "status": "completed"
    },
    "tags": []
   },
   "outputs": [
    {
     "name": "stdout",
     "output_type": "stream",
     "text": [
      "<class 'pandas.core.frame.DataFrame'>\n",
      "Int64Index: 891 entries, 1 to 891\n",
      "Data columns (total 11 columns):\n",
      " #   Column    Non-Null Count  Dtype  \n",
      "---  ------    --------------  -----  \n",
      " 0   Survived  891 non-null    int64  \n",
      " 1   Pclass    891 non-null    int64  \n",
      " 2   Name      891 non-null    object \n",
      " 3   Sex       891 non-null    object \n",
      " 4   Age       714 non-null    float64\n",
      " 5   SibSp     891 non-null    int64  \n",
      " 6   Parch     891 non-null    int64  \n",
      " 7   Ticket    891 non-null    object \n",
      " 8   Fare      891 non-null    float64\n",
      " 9   Cabin     204 non-null    object \n",
      " 10  Embarked  889 non-null    object \n",
      "dtypes: float64(2), int64(4), object(5)\n",
      "memory usage: 83.5+ KB\n",
      "None\n",
      "<class 'pandas.core.frame.DataFrame'>\n",
      "Int64Index: 418 entries, 892 to 1309\n",
      "Data columns (total 10 columns):\n",
      " #   Column    Non-Null Count  Dtype  \n",
      "---  ------    --------------  -----  \n",
      " 0   Pclass    418 non-null    int64  \n",
      " 1   Name      418 non-null    object \n",
      " 2   Sex       418 non-null    object \n",
      " 3   Age       332 non-null    float64\n",
      " 4   SibSp     418 non-null    int64  \n",
      " 5   Parch     418 non-null    int64  \n",
      " 6   Ticket    418 non-null    object \n",
      " 7   Fare      417 non-null    float64\n",
      " 8   Cabin     91 non-null     object \n",
      " 9   Embarked  418 non-null    object \n",
      "dtypes: float64(2), int64(3), object(5)\n",
      "memory usage: 35.9+ KB\n",
      "None\n"
     ]
    }
   ],
   "source": [
    "print(data_.info())\n",
    "print(df_test.info())"
   ]
  },
  {
   "cell_type": "markdown",
   "id": "7a351bf7",
   "metadata": {},
   "source": [
    "## Data analysis and feature engineering"
   ]
  },
  {
   "cell_type": "code",
   "execution_count": 5,
   "id": "78106edf",
   "metadata": {
    "execution": {
     "iopub.execute_input": "2023-03-04T16:58:10.692222Z",
     "iopub.status.busy": "2023-03-04T16:58:10.691741Z",
     "iopub.status.idle": "2023-03-04T16:58:10.730496Z",
     "shell.execute_reply": "2023-03-04T16:58:10.729447Z"
    },
    "id": "0Rh34kmd8C-0",
    "outputId": "76f76a1f-3427-41b9-89fb-1371a644d37a",
    "papermill": {
     "duration": 0.051442,
     "end_time": "2023-03-04T16:58:10.733599",
     "exception": false,
     "start_time": "2023-03-04T16:58:10.682157",
     "status": "completed"
    },
    "tags": []
   },
   "outputs": [],
   "source": [
    "from sklearn.preprocessing import LabelEncoder\n",
    "le = LabelEncoder()\n",
    "\n",
    "X = data_\n",
    "X['Age'] = X['Age'].fillna(X['Age'].mean())\n",
    "X['Sex'] = X['Sex'].replace({'male': 0, 'female': 1})\n",
    "X['FamilySize'] = X['SibSp'] + X['Parch']\n",
    "X['IsAlone'] = X['FamilySize'].apply(lambda x: 1 if x==0 else 0)\n",
    "X['Embarked'] = le.fit_transform(X['Embarked'])\n",
    "\n",
    "X_test = df_test\n",
    "X_test['Age']= X_test['Age'].fillna(X_test['Age'].mean())\n",
    "X_test['Fare'] = X_test['Fare'].fillna(X_test['Fare'].mean())\n",
    "X_test['Sex'] = X_test['Sex'].replace({'male': 0, 'female': 1})\n",
    "X_test['FamilySize'] = X_test['SibSp'] + X_test['Parch']\n",
    "X_test['IsAlone'] = X_test['FamilySize'].apply(lambda x: 1 if x==0 else 0)\n",
    "X_test['Embarked'] = le.fit_transform(X_test['Embarked'])\n",
    "\n",
    "\n",
    "# Extract the title from the 'Name' column and store it in a new column called 'Title'\n",
    "X['Title'] = X['Name'].str.extract(' ([A-Za-z]+)\\.', expand=False)\n",
    "\n",
    "# Replace rare titles with more common ones\n",
    "X['Title'] = X['Title'].replace(['Lady', 'Countess','Capt', 'Col', 'Don', 'Dr', 'Major', 'Rev', 'Sir', 'Jonkheer', 'Dona'], 'Rare')\n",
    "X['Title'] = X['Title'].replace('Mlle', 'Miss')\n",
    "X['Title'] = X['Title'].replace('Ms', 'Miss')\n",
    "X['Title'] = X['Title'].replace('Mme', 'Mrs')\n",
    "\n",
    "# Map each title to a numerical value\n",
    "title_mapping = {\"Mr\": 1, \"Miss\": 2, \"Mrs\": 3, \"Master\": 4, \"Rare\": 5}\n",
    "X['Title'] = X['Title'].map(title_mapping)\n",
    "\n",
    "\n",
    "# Extract the title from the 'Name' column and store it in a new column called 'Title'\n",
    "X_test['Title'] = X_test['Name'].str.extract(' ([A-Za-z]+)\\.', expand=False)\n",
    "\n",
    "# Replace rare titles with more common ones\n",
    "X_test['Title'] = X_test['Title'].replace(['Lady', 'Countess','Capt', 'Col', 'Don', 'Dr', 'Major', 'Rev', 'Sir', 'Jonkheer', 'Dona'], 'Rare')\n",
    "X_test['Title'] = X_test['Title'].replace('Mlle', 'Miss')\n",
    "X_test['Title'] = X_test['Title'].replace('Ms', 'Miss')\n",
    "X_test['Title'] = X_test['Title'].replace('Mme', 'Mrs')\n",
    "\n",
    "# Map each title to a numerical value\n",
    "title_mapping = {\"Mr\": 1, \"Miss\": 2, \"Mrs\": 3, \"Master\": 4, \"Rare\": 5}\n",
    "X_test['Title'] = X_test['Title'].map(title_mapping)"
   ]
  },
  {
   "cell_type": "code",
   "execution_count": 6,
   "id": "dbd7bd9c",
   "metadata": {
    "execution": {
     "iopub.execute_input": "2023-03-04T16:58:10.750965Z",
     "iopub.status.busy": "2023-03-04T16:58:10.750507Z",
     "iopub.status.idle": "2023-03-04T16:58:10.769898Z",
     "shell.execute_reply": "2023-03-04T16:58:10.768701Z"
    },
    "papermill": {
     "duration": 0.031293,
     "end_time": "2023-03-04T16:58:10.772622",
     "exception": false,
     "start_time": "2023-03-04T16:58:10.741329",
     "status": "completed"
    },
    "tags": []
   },
   "outputs": [],
   "source": [
    "# Create a new column called 'AgeGroup' based on the passenger's age\n",
    "bins = [0, 12, 18, 25, 40, 60, 100]\n",
    "labels = ['Child', 'Teenager', 'Young Adult', 'Adult', 'Middle Aged', 'Senior']\n",
    "age_mapping = {'Child': 1, 'Teenager': 2, 'Young Adult': 3, 'Adult': 4, 'Middle Aged': 5, 'Senior': 6}\n",
    "\n",
    "X['AgeGroup'] = pd.cut(X['Age'], bins=bins, labels=labels, include_lowest=True)\n",
    "X['AgeGroup'] = X['AgeGroup'].map(age_mapping)\n",
    "\n",
    "X_test['AgeGroup'] = pd.cut(X_test['Age'], bins=bins, labels=labels, include_lowest=True)\n",
    "X_test['AgeGroup'] = X_test['AgeGroup'].map(age_mapping)"
   ]
  },
  {
   "cell_type": "code",
   "execution_count": 7,
   "id": "396a7651",
   "metadata": {
    "execution": {
     "iopub.execute_input": "2023-03-04T16:58:10.789980Z",
     "iopub.status.busy": "2023-03-04T16:58:10.789534Z",
     "iopub.status.idle": "2023-03-04T16:58:10.817435Z",
     "shell.execute_reply": "2023-03-04T16:58:10.815884Z"
    },
    "papermill": {
     "duration": 0.039733,
     "end_time": "2023-03-04T16:58:10.820011",
     "exception": false,
     "start_time": "2023-03-04T16:58:10.780278",
     "status": "completed"
    },
    "tags": []
   },
   "outputs": [
    {
     "name": "stdout",
     "output_type": "stream",
     "text": [
      "<class 'pandas.core.frame.DataFrame'>\n",
      "Int64Index: 891 entries, 1 to 891\n",
      "Data columns (total 15 columns):\n",
      " #   Column      Non-Null Count  Dtype   \n",
      "---  ------      --------------  -----   \n",
      " 0   Survived    891 non-null    int64   \n",
      " 1   Pclass      891 non-null    int64   \n",
      " 2   Name        891 non-null    object  \n",
      " 3   Sex         891 non-null    int64   \n",
      " 4   Age         891 non-null    float64 \n",
      " 5   SibSp       891 non-null    int64   \n",
      " 6   Parch       891 non-null    int64   \n",
      " 7   Ticket      891 non-null    object  \n",
      " 8   Fare        891 non-null    float64 \n",
      " 9   Cabin       204 non-null    object  \n",
      " 10  Embarked    891 non-null    int64   \n",
      " 11  FamilySize  891 non-null    int64   \n",
      " 12  IsAlone     891 non-null    int64   \n",
      " 13  Title       891 non-null    int64   \n",
      " 14  AgeGroup    891 non-null    category\n",
      "dtypes: category(1), float64(2), int64(9), object(3)\n",
      "memory usage: 105.5+ KB\n",
      "None\n",
      "<class 'pandas.core.frame.DataFrame'>\n",
      "Int64Index: 418 entries, 892 to 1309\n",
      "Data columns (total 14 columns):\n",
      " #   Column      Non-Null Count  Dtype   \n",
      "---  ------      --------------  -----   \n",
      " 0   Pclass      418 non-null    int64   \n",
      " 1   Name        418 non-null    object  \n",
      " 2   Sex         418 non-null    int64   \n",
      " 3   Age         418 non-null    float64 \n",
      " 4   SibSp       418 non-null    int64   \n",
      " 5   Parch       418 non-null    int64   \n",
      " 6   Ticket      418 non-null    object  \n",
      " 7   Fare        418 non-null    float64 \n",
      " 8   Cabin       91 non-null     object  \n",
      " 9   Embarked    418 non-null    int64   \n",
      " 10  FamilySize  418 non-null    int64   \n",
      " 11  IsAlone     418 non-null    int64   \n",
      " 12  Title       418 non-null    int64   \n",
      " 13  AgeGroup    418 non-null    category\n",
      "dtypes: category(1), float64(2), int64(8), object(3)\n",
      "memory usage: 46.3+ KB\n",
      "None\n"
     ]
    }
   ],
   "source": [
    "print(X.info())\n",
    "print(X_test.info())"
   ]
  },
  {
   "cell_type": "code",
   "execution_count": 8,
   "id": "ce620619",
   "metadata": {
    "execution": {
     "iopub.execute_input": "2023-03-04T16:58:10.838362Z",
     "iopub.status.busy": "2023-03-04T16:58:10.837455Z",
     "iopub.status.idle": "2023-03-04T16:58:10.847693Z",
     "shell.execute_reply": "2023-03-04T16:58:10.846699Z"
    },
    "papermill": {
     "duration": 0.021683,
     "end_time": "2023-03-04T16:58:10.850020",
     "exception": false,
     "start_time": "2023-03-04T16:58:10.828337",
     "status": "completed"
    },
    "tags": []
   },
   "outputs": [
    {
     "data": {
      "text/plain": [
       "PassengerId\n",
       "1      3\n",
       "2      4\n",
       "3      4\n",
       "4      4\n",
       "5      4\n",
       "      ..\n",
       "887    4\n",
       "888    3\n",
       "889    4\n",
       "890    4\n",
       "891    4\n",
       "Name: AgeGroup, Length: 891, dtype: category\n",
       "Categories (6, int64): [1 < 2 < 3 < 4 < 5 < 6]"
      ]
     },
     "execution_count": 8,
     "metadata": {},
     "output_type": "execute_result"
    }
   ],
   "source": [
    "X.AgeGroup"
   ]
  },
  {
   "cell_type": "code",
   "execution_count": 9,
   "id": "e613af77",
   "metadata": {
    "execution": {
     "iopub.execute_input": "2023-03-04T16:58:10.867762Z",
     "iopub.status.busy": "2023-03-04T16:58:10.867208Z",
     "iopub.status.idle": "2023-03-04T16:58:10.876447Z",
     "shell.execute_reply": "2023-03-04T16:58:10.875308Z"
    },
    "id": "YaimzLEJofK6",
    "papermill": {
     "duration": 0.021019,
     "end_time": "2023-03-04T16:58:10.878813",
     "exception": false,
     "start_time": "2023-03-04T16:58:10.857794",
     "status": "completed"
    },
    "tags": []
   },
   "outputs": [],
   "source": [
    "X = data_.drop(['Name','Ticket','Cabin','Survived'], axis=1)\n",
    "X_test = df_test.drop(['Name','Ticket','Cabin'], axis=1)\n",
    "Y = data_['Survived']\n",
    "# Y_test = df_test['Survived']"
   ]
  },
  {
   "cell_type": "code",
   "execution_count": 10,
   "id": "1c4cb25d",
   "metadata": {
    "execution": {
     "iopub.execute_input": "2023-03-04T16:58:10.896416Z",
     "iopub.status.busy": "2023-03-04T16:58:10.895983Z",
     "iopub.status.idle": "2023-03-04T16:58:10.903743Z",
     "shell.execute_reply": "2023-03-04T16:58:10.902460Z"
    },
    "id": "_yE9_jpKps4Q",
    "outputId": "a8770624-c2c3-4b7a-fdd9-b1e11ddb2151",
    "papermill": {
     "duration": 0.020102,
     "end_time": "2023-03-04T16:58:10.906638",
     "exception": false,
     "start_time": "2023-03-04T16:58:10.886536",
     "status": "completed"
    },
    "tags": []
   },
   "outputs": [
    {
     "data": {
      "text/plain": [
       "Index(['Pclass', 'Sex', 'Age', 'SibSp', 'Parch', 'Fare', 'Embarked',\n",
       "       'FamilySize', 'IsAlone', 'Title', 'AgeGroup'],\n",
       "      dtype='object')"
      ]
     },
     "execution_count": 10,
     "metadata": {},
     "output_type": "execute_result"
    }
   ],
   "source": [
    "X.columns"
   ]
  },
  {
   "cell_type": "code",
   "execution_count": 11,
   "id": "ea2364bc",
   "metadata": {
    "execution": {
     "iopub.execute_input": "2023-03-04T16:58:10.925684Z",
     "iopub.status.busy": "2023-03-04T16:58:10.925262Z",
     "iopub.status.idle": "2023-03-04T16:58:10.932927Z",
     "shell.execute_reply": "2023-03-04T16:58:10.931720Z"
    },
    "id": "z4c0DAWo4DfS",
    "outputId": "43177d75-4f88-4e38-f87a-dc72810d82b3",
    "papermill": {
     "duration": 0.019563,
     "end_time": "2023-03-04T16:58:10.935376",
     "exception": false,
     "start_time": "2023-03-04T16:58:10.915813",
     "status": "completed"
    },
    "tags": []
   },
   "outputs": [
    {
     "data": {
      "text/plain": [
       "Index(['Pclass', 'Sex', 'Age', 'SibSp', 'Parch', 'Fare', 'Embarked',\n",
       "       'FamilySize', 'IsAlone', 'Title', 'AgeGroup'],\n",
       "      dtype='object')"
      ]
     },
     "execution_count": 11,
     "metadata": {},
     "output_type": "execute_result"
    }
   ],
   "source": [
    "X_test.columns"
   ]
  },
  {
   "cell_type": "code",
   "execution_count": 12,
   "id": "30771618",
   "metadata": {
    "execution": {
     "iopub.execute_input": "2023-03-04T16:58:10.953570Z",
     "iopub.status.busy": "2023-03-04T16:58:10.952905Z",
     "iopub.status.idle": "2023-03-04T16:58:10.960505Z",
     "shell.execute_reply": "2023-03-04T16:58:10.959211Z"
    },
    "id": "7RS11vPrpWhJ",
    "papermill": {
     "duration": 0.019551,
     "end_time": "2023-03-04T16:58:10.962896",
     "exception": false,
     "start_time": "2023-03-04T16:58:10.943345",
     "status": "completed"
    },
    "tags": []
   },
   "outputs": [],
   "source": [
    "X['Sex'] = X['Sex'].replace({'male': 0, 'female': 1})\n",
    "X_test['Sex'] = X_test['Sex'].replace({'male': 0, 'female': 1})"
   ]
  },
  {
   "cell_type": "code",
   "execution_count": 13,
   "id": "4c370724",
   "metadata": {
    "execution": {
     "iopub.execute_input": "2023-03-04T16:58:10.981009Z",
     "iopub.status.busy": "2023-03-04T16:58:10.980540Z",
     "iopub.status.idle": "2023-03-04T16:58:10.987471Z",
     "shell.execute_reply": "2023-03-04T16:58:10.986353Z"
    },
    "id": "sCuWKghIrz47",
    "papermill": {
     "duration": 0.018843,
     "end_time": "2023-03-04T16:58:10.989811",
     "exception": false,
     "start_time": "2023-03-04T16:58:10.970968",
     "status": "completed"
    },
    "tags": []
   },
   "outputs": [],
   "source": [
    "le = LabelEncoder()\n",
    "X['Embarked'] = le.fit_transform(X['Embarked'])\n",
    "X_test['Embarked'] = le.fit_transform(X_test['Embarked'])"
   ]
  },
  {
   "cell_type": "code",
   "execution_count": 14,
   "id": "3e40ebf1",
   "metadata": {
    "execution": {
     "iopub.execute_input": "2023-03-04T16:58:11.008410Z",
     "iopub.status.busy": "2023-03-04T16:58:11.007967Z",
     "iopub.status.idle": "2023-03-04T16:58:11.051406Z",
     "shell.execute_reply": "2023-03-04T16:58:11.049920Z"
    },
    "id": "1SFfraagdeTk",
    "outputId": "d32420ec-b7d6-40d4-b7ce-cc3075f96e61",
    "papermill": {
     "duration": 0.056661,
     "end_time": "2023-03-04T16:58:11.054343",
     "exception": false,
     "start_time": "2023-03-04T16:58:10.997682",
     "status": "completed"
    },
    "tags": []
   },
   "outputs": [
    {
     "data": {
      "text/html": [
       "<div>\n",
       "<style scoped>\n",
       "    .dataframe tbody tr th:only-of-type {\n",
       "        vertical-align: middle;\n",
       "    }\n",
       "\n",
       "    .dataframe tbody tr th {\n",
       "        vertical-align: top;\n",
       "    }\n",
       "\n",
       "    .dataframe thead th {\n",
       "        text-align: right;\n",
       "    }\n",
       "</style>\n",
       "<table border=\"1\" class=\"dataframe\">\n",
       "  <thead>\n",
       "    <tr style=\"text-align: right;\">\n",
       "      <th></th>\n",
       "      <th>Pclass</th>\n",
       "      <th>Sex</th>\n",
       "      <th>Age</th>\n",
       "      <th>SibSp</th>\n",
       "      <th>Parch</th>\n",
       "      <th>Fare</th>\n",
       "      <th>Embarked</th>\n",
       "      <th>FamilySize</th>\n",
       "      <th>IsAlone</th>\n",
       "      <th>Title</th>\n",
       "    </tr>\n",
       "  </thead>\n",
       "  <tbody>\n",
       "    <tr>\n",
       "      <th>count</th>\n",
       "      <td>891.000000</td>\n",
       "      <td>891.000000</td>\n",
       "      <td>891.000000</td>\n",
       "      <td>891.000000</td>\n",
       "      <td>891.000000</td>\n",
       "      <td>891.000000</td>\n",
       "      <td>891.000000</td>\n",
       "      <td>891.000000</td>\n",
       "      <td>891.000000</td>\n",
       "      <td>891.000000</td>\n",
       "    </tr>\n",
       "    <tr>\n",
       "      <th>mean</th>\n",
       "      <td>2.308642</td>\n",
       "      <td>0.352413</td>\n",
       "      <td>29.699118</td>\n",
       "      <td>0.523008</td>\n",
       "      <td>0.381594</td>\n",
       "      <td>32.204208</td>\n",
       "      <td>1.538721</td>\n",
       "      <td>0.904602</td>\n",
       "      <td>0.602694</td>\n",
       "      <td>1.728395</td>\n",
       "    </tr>\n",
       "    <tr>\n",
       "      <th>std</th>\n",
       "      <td>0.836071</td>\n",
       "      <td>0.477990</td>\n",
       "      <td>13.002015</td>\n",
       "      <td>1.102743</td>\n",
       "      <td>0.806057</td>\n",
       "      <td>49.693429</td>\n",
       "      <td>0.794231</td>\n",
       "      <td>1.613459</td>\n",
       "      <td>0.489615</td>\n",
       "      <td>1.030039</td>\n",
       "    </tr>\n",
       "    <tr>\n",
       "      <th>min</th>\n",
       "      <td>1.000000</td>\n",
       "      <td>0.000000</td>\n",
       "      <td>0.420000</td>\n",
       "      <td>0.000000</td>\n",
       "      <td>0.000000</td>\n",
       "      <td>0.000000</td>\n",
       "      <td>0.000000</td>\n",
       "      <td>0.000000</td>\n",
       "      <td>0.000000</td>\n",
       "      <td>1.000000</td>\n",
       "    </tr>\n",
       "    <tr>\n",
       "      <th>25%</th>\n",
       "      <td>2.000000</td>\n",
       "      <td>0.000000</td>\n",
       "      <td>22.000000</td>\n",
       "      <td>0.000000</td>\n",
       "      <td>0.000000</td>\n",
       "      <td>7.910400</td>\n",
       "      <td>1.000000</td>\n",
       "      <td>0.000000</td>\n",
       "      <td>0.000000</td>\n",
       "      <td>1.000000</td>\n",
       "    </tr>\n",
       "    <tr>\n",
       "      <th>50%</th>\n",
       "      <td>3.000000</td>\n",
       "      <td>0.000000</td>\n",
       "      <td>29.699118</td>\n",
       "      <td>0.000000</td>\n",
       "      <td>0.000000</td>\n",
       "      <td>14.454200</td>\n",
       "      <td>2.000000</td>\n",
       "      <td>0.000000</td>\n",
       "      <td>1.000000</td>\n",
       "      <td>1.000000</td>\n",
       "    </tr>\n",
       "    <tr>\n",
       "      <th>75%</th>\n",
       "      <td>3.000000</td>\n",
       "      <td>1.000000</td>\n",
       "      <td>35.000000</td>\n",
       "      <td>1.000000</td>\n",
       "      <td>0.000000</td>\n",
       "      <td>31.000000</td>\n",
       "      <td>2.000000</td>\n",
       "      <td>1.000000</td>\n",
       "      <td>1.000000</td>\n",
       "      <td>2.000000</td>\n",
       "    </tr>\n",
       "    <tr>\n",
       "      <th>max</th>\n",
       "      <td>3.000000</td>\n",
       "      <td>1.000000</td>\n",
       "      <td>80.000000</td>\n",
       "      <td>8.000000</td>\n",
       "      <td>6.000000</td>\n",
       "      <td>512.329200</td>\n",
       "      <td>3.000000</td>\n",
       "      <td>10.000000</td>\n",
       "      <td>1.000000</td>\n",
       "      <td>5.000000</td>\n",
       "    </tr>\n",
       "  </tbody>\n",
       "</table>\n",
       "</div>"
      ],
      "text/plain": [
       "           Pclass         Sex         Age       SibSp       Parch        Fare  \\\n",
       "count  891.000000  891.000000  891.000000  891.000000  891.000000  891.000000   \n",
       "mean     2.308642    0.352413   29.699118    0.523008    0.381594   32.204208   \n",
       "std      0.836071    0.477990   13.002015    1.102743    0.806057   49.693429   \n",
       "min      1.000000    0.000000    0.420000    0.000000    0.000000    0.000000   \n",
       "25%      2.000000    0.000000   22.000000    0.000000    0.000000    7.910400   \n",
       "50%      3.000000    0.000000   29.699118    0.000000    0.000000   14.454200   \n",
       "75%      3.000000    1.000000   35.000000    1.000000    0.000000   31.000000   \n",
       "max      3.000000    1.000000   80.000000    8.000000    6.000000  512.329200   \n",
       "\n",
       "         Embarked  FamilySize     IsAlone       Title  \n",
       "count  891.000000  891.000000  891.000000  891.000000  \n",
       "mean     1.538721    0.904602    0.602694    1.728395  \n",
       "std      0.794231    1.613459    0.489615    1.030039  \n",
       "min      0.000000    0.000000    0.000000    1.000000  \n",
       "25%      1.000000    0.000000    0.000000    1.000000  \n",
       "50%      2.000000    0.000000    1.000000    1.000000  \n",
       "75%      2.000000    1.000000    1.000000    2.000000  \n",
       "max      3.000000   10.000000    1.000000    5.000000  "
      ]
     },
     "execution_count": 14,
     "metadata": {},
     "output_type": "execute_result"
    }
   ],
   "source": [
    "X.describe()"
   ]
  },
  {
   "cell_type": "code",
   "execution_count": 15,
   "id": "3fc67747",
   "metadata": {
    "execution": {
     "iopub.execute_input": "2023-03-04T16:58:11.074414Z",
     "iopub.status.busy": "2023-03-04T16:58:11.072907Z",
     "iopub.status.idle": "2023-03-04T16:58:11.090775Z",
     "shell.execute_reply": "2023-03-04T16:58:11.089283Z"
    },
    "id": "n6cO-KgDh-Va",
    "outputId": "ebe02a01-5afc-44fb-9ed9-297d512b082f",
    "papermill": {
     "duration": 0.030687,
     "end_time": "2023-03-04T16:58:11.093564",
     "exception": false,
     "start_time": "2023-03-04T16:58:11.062877",
     "status": "completed"
    },
    "tags": []
   },
   "outputs": [
    {
     "data": {
      "text/html": [
       "<div>\n",
       "<style scoped>\n",
       "    .dataframe tbody tr th:only-of-type {\n",
       "        vertical-align: middle;\n",
       "    }\n",
       "\n",
       "    .dataframe tbody tr th {\n",
       "        vertical-align: top;\n",
       "    }\n",
       "\n",
       "    .dataframe thead th {\n",
       "        text-align: right;\n",
       "    }\n",
       "</style>\n",
       "<table border=\"1\" class=\"dataframe\">\n",
       "  <thead>\n",
       "    <tr style=\"text-align: right;\">\n",
       "      <th></th>\n",
       "      <th>Pclass</th>\n",
       "      <th>Sex</th>\n",
       "      <th>Age</th>\n",
       "      <th>SibSp</th>\n",
       "      <th>Parch</th>\n",
       "      <th>Fare</th>\n",
       "      <th>Embarked</th>\n",
       "      <th>FamilySize</th>\n",
       "      <th>IsAlone</th>\n",
       "      <th>Title</th>\n",
       "      <th>AgeGroup</th>\n",
       "    </tr>\n",
       "    <tr>\n",
       "      <th>PassengerId</th>\n",
       "      <th></th>\n",
       "      <th></th>\n",
       "      <th></th>\n",
       "      <th></th>\n",
       "      <th></th>\n",
       "      <th></th>\n",
       "      <th></th>\n",
       "      <th></th>\n",
       "      <th></th>\n",
       "      <th></th>\n",
       "      <th></th>\n",
       "    </tr>\n",
       "  </thead>\n",
       "  <tbody>\n",
       "    <tr>\n",
       "      <th>1</th>\n",
       "      <td>3</td>\n",
       "      <td>0</td>\n",
       "      <td>22.0</td>\n",
       "      <td>1</td>\n",
       "      <td>0</td>\n",
       "      <td>7.2500</td>\n",
       "      <td>2</td>\n",
       "      <td>1</td>\n",
       "      <td>0</td>\n",
       "      <td>1</td>\n",
       "      <td>3</td>\n",
       "    </tr>\n",
       "    <tr>\n",
       "      <th>2</th>\n",
       "      <td>1</td>\n",
       "      <td>1</td>\n",
       "      <td>38.0</td>\n",
       "      <td>1</td>\n",
       "      <td>0</td>\n",
       "      <td>71.2833</td>\n",
       "      <td>0</td>\n",
       "      <td>1</td>\n",
       "      <td>0</td>\n",
       "      <td>3</td>\n",
       "      <td>4</td>\n",
       "    </tr>\n",
       "    <tr>\n",
       "      <th>3</th>\n",
       "      <td>3</td>\n",
       "      <td>1</td>\n",
       "      <td>26.0</td>\n",
       "      <td>0</td>\n",
       "      <td>0</td>\n",
       "      <td>7.9250</td>\n",
       "      <td>2</td>\n",
       "      <td>0</td>\n",
       "      <td>1</td>\n",
       "      <td>2</td>\n",
       "      <td>4</td>\n",
       "    </tr>\n",
       "    <tr>\n",
       "      <th>4</th>\n",
       "      <td>1</td>\n",
       "      <td>1</td>\n",
       "      <td>35.0</td>\n",
       "      <td>1</td>\n",
       "      <td>0</td>\n",
       "      <td>53.1000</td>\n",
       "      <td>2</td>\n",
       "      <td>1</td>\n",
       "      <td>0</td>\n",
       "      <td>3</td>\n",
       "      <td>4</td>\n",
       "    </tr>\n",
       "    <tr>\n",
       "      <th>5</th>\n",
       "      <td>3</td>\n",
       "      <td>0</td>\n",
       "      <td>35.0</td>\n",
       "      <td>0</td>\n",
       "      <td>0</td>\n",
       "      <td>8.0500</td>\n",
       "      <td>2</td>\n",
       "      <td>0</td>\n",
       "      <td>1</td>\n",
       "      <td>1</td>\n",
       "      <td>4</td>\n",
       "    </tr>\n",
       "  </tbody>\n",
       "</table>\n",
       "</div>"
      ],
      "text/plain": [
       "             Pclass  Sex   Age  SibSp  Parch     Fare  Embarked  FamilySize  \\\n",
       "PassengerId                                                                   \n",
       "1                 3    0  22.0      1      0   7.2500         2           1   \n",
       "2                 1    1  38.0      1      0  71.2833         0           1   \n",
       "3                 3    1  26.0      0      0   7.9250         2           0   \n",
       "4                 1    1  35.0      1      0  53.1000         2           1   \n",
       "5                 3    0  35.0      0      0   8.0500         2           0   \n",
       "\n",
       "             IsAlone  Title AgeGroup  \n",
       "PassengerId                           \n",
       "1                  0      1        3  \n",
       "2                  0      3        4  \n",
       "3                  1      2        4  \n",
       "4                  0      3        4  \n",
       "5                  1      1        4  "
      ]
     },
     "execution_count": 15,
     "metadata": {},
     "output_type": "execute_result"
    }
   ],
   "source": [
    "X.head()"
   ]
  },
  {
   "cell_type": "code",
   "execution_count": 16,
   "id": "62e937d2",
   "metadata": {
    "execution": {
     "iopub.execute_input": "2023-03-04T16:58:11.113324Z",
     "iopub.status.busy": "2023-03-04T16:58:11.112912Z",
     "iopub.status.idle": "2023-03-04T16:58:11.532731Z",
     "shell.execute_reply": "2023-03-04T16:58:11.531791Z"
    },
    "id": "TY6sfi_hp9Pb",
    "outputId": "46bec361-0774-4304-8503-8ceee03e1b54",
    "papermill": {
     "duration": 0.432956,
     "end_time": "2023-03-04T16:58:11.535120",
     "exception": false,
     "start_time": "2023-03-04T16:58:11.102164",
     "status": "completed"
    },
    "tags": []
   },
   "outputs": [
    {
     "data": {
      "image/png": "[encoded data removed]",
      "text/plain": [
       "<Figure size 1200x800 with 1 Axes>"
      ]
     },
     "metadata": {},
     "output_type": "display_data"
    }
   ],
   "source": [
    "X.plot(kind='box')\n",
    "plt.show()"
   ]
  },
  {
   "cell_type": "code",
   "execution_count": 17,
   "id": "20668067",
   "metadata": {
    "execution": {
     "iopub.execute_input": "2023-03-04T16:58:11.555776Z",
     "iopub.status.busy": "2023-03-04T16:58:11.554545Z",
     "iopub.status.idle": "2023-03-04T16:58:11.569645Z",
     "shell.execute_reply": "2023-03-04T16:58:11.568465Z"
    },
    "id": "R2W7KgA_wRgA",
    "papermill": {
     "duration": 0.028111,
     "end_time": "2023-03-04T16:58:11.572300",
     "exception": false,
     "start_time": "2023-03-04T16:58:11.544189",
     "status": "completed"
    },
    "tags": []
   },
   "outputs": [],
   "source": [
    "from sklearn.preprocessing import MinMaxScaler\n",
    "\n",
    "scaler = MinMaxScaler()\n",
    "\n",
    "X[['Age', 'Fare']] = scaler.fit_transform(X[['Age', 'Fare']])\n",
    "X_test[['Age', 'Fare']] = scaler.fit_transform(X_test[['Age', 'Fare']])"
   ]
  },
  {
   "cell_type": "code",
   "execution_count": 18,
   "id": "cfddc95d",
   "metadata": {
    "execution": {
     "iopub.execute_input": "2023-03-04T16:58:11.592578Z",
     "iopub.status.busy": "2023-03-04T16:58:11.591525Z",
     "iopub.status.idle": "2023-03-04T16:58:11.932675Z",
     "shell.execute_reply": "2023-03-04T16:58:11.930888Z"
    },
    "id": "yfgJnSjYwmPn",
    "outputId": "e9819f85-c75b-4a4f-dfa7-ce904fef6e17",
    "papermill": {
     "duration": 0.354266,
     "end_time": "2023-03-04T16:58:11.935534",
     "exception": false,
     "start_time": "2023-03-04T16:58:11.581268",
     "status": "completed"
    },
    "tags": []
   },
   "outputs": [
    {
     "data": {
      "image/png": "[encoded data removed]",
      "text/plain": [
       "<Figure size 1200x800 with 1 Axes>"
      ]
     },
     "metadata": {},
     "output_type": "display_data"
    },
    {
     "name": "stdout",
     "output_type": "stream",
     "text": [
      "              Pclass       Sex       Age     SibSp     Parch      Fare  \\\n",
      "Pclass      1.000000 -0.131900 -0.331339  0.083081  0.018443 -0.549500   \n",
      "Sex        -0.131900  1.000000 -0.084153  0.114631  0.245489  0.182333   \n",
      "Age        -0.331339 -0.084153  1.000000 -0.232625 -0.179191  0.091566   \n",
      "SibSp       0.083081  0.114631 -0.232625  1.000000  0.414838  0.159651   \n",
      "Parch       0.018443  0.245489 -0.179191  0.414838  1.000000  0.216225   \n",
      "Fare       -0.549500  0.182333  0.091566  0.159651  0.216225  1.000000   \n",
      "Embarked    0.157112 -0.104057 -0.022239  0.066654  0.038322 -0.221226   \n",
      "FamilySize  0.065997  0.200988 -0.248512  0.890712  0.783111  0.217138   \n",
      "IsAlone     0.135207 -0.303646  0.179775 -0.584471 -0.583398 -0.271832   \n",
      "Title      -0.173929  0.502713 -0.097454  0.269623  0.315784  0.136310   \n",
      "\n",
      "            Embarked  FamilySize   IsAlone     Title  \n",
      "Pclass      0.157112    0.065997  0.135207 -0.173929  \n",
      "Sex        -0.104057    0.200988 -0.303646  0.502713  \n",
      "Age        -0.022239   -0.248512  0.179775 -0.097454  \n",
      "SibSp       0.066654    0.890712 -0.584471  0.269623  \n",
      "Parch       0.038322    0.783111 -0.583398  0.315784  \n",
      "Fare       -0.221226    0.217138 -0.271832  0.136310  \n",
      "Embarked    1.000000    0.064701  0.065610 -0.058549  \n",
      "FamilySize  0.064701    1.000000 -0.690922  0.342039  \n",
      "IsAlone     0.065610   -0.690922  1.000000 -0.405813  \n",
      "Title      -0.058549    0.342039 -0.405813  1.000000  \n"
     ]
    }
   ],
   "source": [
    "X.plot(kind='box')\n",
    "plt.show()\n",
    "\n",
    "corr_matrix = X.corr()\n",
    "# display the correlation matrix\n",
    "print(corr_matrix)"
   ]
  },
  {
   "attachments": {},
   "cell_type": "markdown",
   "id": "0f3413a3",
   "metadata": {},
   "source": [
    "## Feature selection"
   ]
  },
  {
   "cell_type": "code",
   "execution_count": 19,
   "id": "63b99593",
   "metadata": {
    "execution": {
     "iopub.execute_input": "2023-03-04T16:58:11.957222Z",
     "iopub.status.busy": "2023-03-04T16:58:11.956462Z",
     "iopub.status.idle": "2023-03-04T16:58:12.652216Z",
     "shell.execute_reply": "2023-03-04T16:58:12.650863Z"
    },
    "id": "KmOOdkyEzYD5",
    "outputId": "1d423ae5-88bb-4191-cb76-c560ed92f800",
    "papermill": {
     "duration": 0.713193,
     "end_time": "2023-03-04T16:58:12.658674",
     "exception": false,
     "start_time": "2023-03-04T16:58:11.945481",
     "status": "completed"
    },
    "tags": []
   },
   "outputs": [
    {
     "name": "stdout",
     "output_type": "stream",
     "text": [
      "Optimal number of features: 10\n"
     ]
    }
   ],
   "source": [
    "min_features_to_select = 2  # Minimum number of features to consider\n",
    "clf = LogisticRegression()\n",
    "cv = StratifiedKFold(5)\n",
    "\n",
    "rfecv = RFECV(\n",
    "    estimator=clf,\n",
    "    step=1,\n",
    "    cv=cv,\n",
    "    scoring=\"accuracy\",\n",
    "    min_features_to_select=min_features_to_select,\n",
    ")\n",
    "rfecv.fit(X, Y)\n",
    "\n",
    "print(f\"Optimal number of features: {rfecv.n_features_}\")"
   ]
  },
  {
   "cell_type": "code",
   "execution_count": 20,
   "id": "1c4524cd",
   "metadata": {
    "execution": {
     "iopub.execute_input": "2023-03-04T16:58:12.693869Z",
     "iopub.status.busy": "2023-03-04T16:58:12.692781Z",
     "iopub.status.idle": "2023-03-04T16:58:12.957423Z",
     "shell.execute_reply": "2023-03-04T16:58:12.956167Z"
    },
    "id": "p5KQ2QxKzo_G",
    "outputId": "28254b14-a625-4bda-a752-a161f247aed9",
    "papermill": {
     "duration": 0.279061,
     "end_time": "2023-03-04T16:58:12.960727",
     "exception": false,
     "start_time": "2023-03-04T16:58:12.681666",
     "status": "completed"
    },
    "tags": []
   },
   "outputs": [
    {
     "data": {
      "image/png": "[encoded data removed]",
      "text/plain": [
       "<Figure size 1200x800 with 1 Axes>"
      ]
     },
     "metadata": {},
     "output_type": "display_data"
    }
   ],
   "source": [
    "n_scores = len(rfecv.cv_results_[\"mean_test_score\"])\n",
    "plt.figure()\n",
    "plt.xlabel(\"Number of features selected\")\n",
    "plt.ylabel(\"Mean test accuracy\")\n",
    "plt.errorbar(\n",
    "    range(min_features_to_select, n_scores + min_features_to_select),\n",
    "    rfecv.cv_results_[\"mean_test_score\"],\n",
    "    yerr=rfecv.cv_results_[\"std_test_score\"],\n",
    ")\n",
    "plt.title(\"Recursive Feature Elimination \\nwith correlated features\")\n",
    "plt.show()"
   ]
  },
  {
   "cell_type": "code",
   "execution_count": 21,
   "id": "a61cbfdb",
   "metadata": {
    "execution": {
     "iopub.execute_input": "2023-03-04T16:58:12.984428Z",
     "iopub.status.busy": "2023-03-04T16:58:12.984030Z",
     "iopub.status.idle": "2023-03-04T16:58:12.998412Z",
     "shell.execute_reply": "2023-03-04T16:58:12.996645Z"
    },
    "id": "Tpz0BI1zv11t",
    "outputId": "aaca70fd-7224-4731-9013-b545e8ba1f91",
    "papermill": {
     "duration": 0.030069,
     "end_time": "2023-03-04T16:58:13.001569",
     "exception": false,
     "start_time": "2023-03-04T16:58:12.971500",
     "status": "completed"
    },
    "tags": []
   },
   "outputs": [
    {
     "name": "stdout",
     "output_type": "stream",
     "text": [
      "[ True  True  True  True  True  True  True False  True  True  True]\n"
     ]
    }
   ],
   "source": [
    "Selector = SelectKBest(f_classif, k=rfecv.n_features_)\n",
    "X_new=Selector.fit_transform(X, Y)\n",
    "selected_features = Selector.get_support()\n",
    "print(selected_features)"
   ]
  },
  {
   "cell_type": "code",
   "execution_count": 22,
   "id": "ae361d6e",
   "metadata": {
    "execution": {
     "iopub.execute_input": "2023-03-04T16:58:13.026225Z",
     "iopub.status.busy": "2023-03-04T16:58:13.025446Z",
     "iopub.status.idle": "2023-03-04T16:58:13.064486Z",
     "shell.execute_reply": "2023-03-04T16:58:13.063161Z"
    },
    "papermill": {
     "duration": 0.054111,
     "end_time": "2023-03-04T16:58:13.067268",
     "exception": false,
     "start_time": "2023-03-04T16:58:13.013157",
     "status": "completed"
    },
    "tags": []
   },
   "outputs": [
    {
     "data": {
      "text/html": [
       "<div>\n",
       "<style scoped>\n",
       "    .dataframe tbody tr th:only-of-type {\n",
       "        vertical-align: middle;\n",
       "    }\n",
       "\n",
       "    .dataframe tbody tr th {\n",
       "        vertical-align: top;\n",
       "    }\n",
       "\n",
       "    .dataframe thead th {\n",
       "        text-align: right;\n",
       "    }\n",
       "</style>\n",
       "<table border=\"1\" class=\"dataframe\">\n",
       "  <thead>\n",
       "    <tr style=\"text-align: right;\">\n",
       "      <th></th>\n",
       "      <th>Pclass</th>\n",
       "      <th>Sex</th>\n",
       "      <th>Age</th>\n",
       "      <th>SibSp</th>\n",
       "      <th>Parch</th>\n",
       "      <th>Fare</th>\n",
       "      <th>Embarked</th>\n",
       "      <th>IsAlone</th>\n",
       "      <th>Title</th>\n",
       "    </tr>\n",
       "  </thead>\n",
       "  <tbody>\n",
       "    <tr>\n",
       "      <th>count</th>\n",
       "      <td>418.000000</td>\n",
       "      <td>418.000000</td>\n",
       "      <td>418.000000</td>\n",
       "      <td>418.000000</td>\n",
       "      <td>418.000000</td>\n",
       "      <td>418.000000</td>\n",
       "      <td>418.000000</td>\n",
       "      <td>418.000000</td>\n",
       "      <td>418.000000</td>\n",
       "    </tr>\n",
       "    <tr>\n",
       "      <th>mean</th>\n",
       "      <td>2.265550</td>\n",
       "      <td>0.363636</td>\n",
       "      <td>0.396975</td>\n",
       "      <td>0.447368</td>\n",
       "      <td>0.392344</td>\n",
       "      <td>0.069540</td>\n",
       "      <td>1.401914</td>\n",
       "      <td>0.605263</td>\n",
       "      <td>1.741627</td>\n",
       "    </tr>\n",
       "    <tr>\n",
       "      <th>std</th>\n",
       "      <td>0.841838</td>\n",
       "      <td>0.481622</td>\n",
       "      <td>0.166617</td>\n",
       "      <td>0.896760</td>\n",
       "      <td>0.981429</td>\n",
       "      <td>0.108993</td>\n",
       "      <td>0.854496</td>\n",
       "      <td>0.489380</td>\n",
       "      <td>1.006091</td>\n",
       "    </tr>\n",
       "    <tr>\n",
       "      <th>min</th>\n",
       "      <td>1.000000</td>\n",
       "      <td>0.000000</td>\n",
       "      <td>0.000000</td>\n",
       "      <td>0.000000</td>\n",
       "      <td>0.000000</td>\n",
       "      <td>0.000000</td>\n",
       "      <td>0.000000</td>\n",
       "      <td>0.000000</td>\n",
       "      <td>1.000000</td>\n",
       "    </tr>\n",
       "    <tr>\n",
       "      <th>25%</th>\n",
       "      <td>1.000000</td>\n",
       "      <td>0.000000</td>\n",
       "      <td>0.301068</td>\n",
       "      <td>0.000000</td>\n",
       "      <td>0.000000</td>\n",
       "      <td>0.015412</td>\n",
       "      <td>1.000000</td>\n",
       "      <td>0.000000</td>\n",
       "      <td>1.000000</td>\n",
       "    </tr>\n",
       "    <tr>\n",
       "      <th>50%</th>\n",
       "      <td>3.000000</td>\n",
       "      <td>0.000000</td>\n",
       "      <td>0.396975</td>\n",
       "      <td>0.000000</td>\n",
       "      <td>0.000000</td>\n",
       "      <td>0.028213</td>\n",
       "      <td>2.000000</td>\n",
       "      <td>1.000000</td>\n",
       "      <td>1.000000</td>\n",
       "    </tr>\n",
       "    <tr>\n",
       "      <th>75%</th>\n",
       "      <td>3.000000</td>\n",
       "      <td>1.000000</td>\n",
       "      <td>0.469207</td>\n",
       "      <td>1.000000</td>\n",
       "      <td>0.000000</td>\n",
       "      <td>0.061484</td>\n",
       "      <td>2.000000</td>\n",
       "      <td>1.000000</td>\n",
       "      <td>2.000000</td>\n",
       "    </tr>\n",
       "    <tr>\n",
       "      <th>max</th>\n",
       "      <td>3.000000</td>\n",
       "      <td>1.000000</td>\n",
       "      <td>1.000000</td>\n",
       "      <td>8.000000</td>\n",
       "      <td>9.000000</td>\n",
       "      <td>1.000000</td>\n",
       "      <td>2.000000</td>\n",
       "      <td>1.000000</td>\n",
       "      <td>5.000000</td>\n",
       "    </tr>\n",
       "  </tbody>\n",
       "</table>\n",
       "</div>"
      ],
      "text/plain": [
       "           Pclass         Sex         Age       SibSp       Parch        Fare  \\\n",
       "count  418.000000  418.000000  418.000000  418.000000  418.000000  418.000000   \n",
       "mean     2.265550    0.363636    0.396975    0.447368    0.392344    0.069540   \n",
       "std      0.841838    0.481622    0.166617    0.896760    0.981429    0.108993   \n",
       "min      1.000000    0.000000    0.000000    0.000000    0.000000    0.000000   \n",
       "25%      1.000000    0.000000    0.301068    0.000000    0.000000    0.015412   \n",
       "50%      3.000000    0.000000    0.396975    0.000000    0.000000    0.028213   \n",
       "75%      3.000000    1.000000    0.469207    1.000000    0.000000    0.061484   \n",
       "max      3.000000    1.000000    1.000000    8.000000    9.000000    1.000000   \n",
       "\n",
       "         Embarked     IsAlone       Title  \n",
       "count  418.000000  418.000000  418.000000  \n",
       "mean     1.401914    0.605263    1.741627  \n",
       "std      0.854496    0.489380    1.006091  \n",
       "min      0.000000    0.000000    1.000000  \n",
       "25%      1.000000    0.000000    1.000000  \n",
       "50%      2.000000    1.000000    1.000000  \n",
       "75%      2.000000    1.000000    2.000000  \n",
       "max      2.000000    1.000000    5.000000  "
      ]
     },
     "execution_count": 22,
     "metadata": {},
     "output_type": "execute_result"
    }
   ],
   "source": [
    "X_test_selected = X_test.loc[:, selected_features]\n",
    "X_test_selected.describe()"
   ]
  },
  {
   "attachments": {},
   "cell_type": "markdown",
   "id": "0a4c1246",
   "metadata": {},
   "source": [
    "## Cross Validation"
   ]
  },
  {
   "cell_type": "code",
   "execution_count": 23,
   "id": "ce0ebcd5",
   "metadata": {
    "execution": {
     "iopub.execute_input": "2023-03-04T16:58:13.092739Z",
     "iopub.status.busy": "2023-03-04T16:58:13.092284Z",
     "iopub.status.idle": "2023-03-04T16:58:14.498367Z",
     "shell.execute_reply": "2023-03-04T16:58:14.496665Z"
    },
    "papermill": {
     "duration": 1.421627,
     "end_time": "2023-03-04T16:58:14.501224",
     "exception": false,
     "start_time": "2023-03-04T16:58:13.079597",
     "status": "completed"
    },
    "tags": []
   },
   "outputs": [
    {
     "name": "stdout",
     "output_type": "stream",
     "text": [
      "{'C': 1, 'gamma': 0.1, 'kernel': 'rbf'}\n"
     ]
    }
   ],
   "source": [
    "from sklearn.model_selection import GridSearchCV\n",
    "from sklearn.model_selection import StratifiedShuffleSplit\n",
    "\n",
    "X_train=X_new\n",
    "X_test_selected = X_test.loc[:, selected_features]\n",
    "\n",
    "\n",
    "\n",
    "param_grid = {'C': [0.1, 1, 10, 100], 'gamma': [1, 0.1, 0.01], 'kernel': ['rbf']}\n",
    "cv = StratifiedShuffleSplit(n_splits=4, test_size=0.2, random_state=42)\n",
    "grid = GridSearchCV(SVC(), param_grid=param_grid, cv=cv)\n",
    "grid.fit(X_train,Y)\n",
    "print(grid.best_params_)"
   ]
  },
  {
   "attachments": {},
   "cell_type": "markdown",
   "id": "c806321b",
   "metadata": {},
   "source": [
    "## Train the Data"
   ]
  },
  {
   "cell_type": "code",
   "execution_count": 24,
   "id": "63a90679",
   "metadata": {
    "execution": {
     "iopub.execute_input": "2023-03-04T16:58:14.526415Z",
     "iopub.status.busy": "2023-03-04T16:58:14.525936Z",
     "iopub.status.idle": "2023-03-04T16:58:14.576453Z",
     "shell.execute_reply": "2023-03-04T16:58:14.574825Z"
    },
    "id": "iO85Olb_7zO-",
    "outputId": "0e63a522-464b-46c7-a451-b513129935db",
    "papermill": {
     "duration": 0.066842,
     "end_time": "2023-03-04T16:58:14.579626",
     "exception": false,
     "start_time": "2023-03-04T16:58:14.512784",
     "status": "completed"
    },
    "tags": []
   },
   "outputs": [
    {
     "name": "stderr",
     "output_type": "stream",
     "text": [
      "/opt/conda/lib/python3.7/site-packages/sklearn/base.py:444: UserWarning: X has feature names, but SVC was fitted without feature names\n",
      "  f\"X has feature names, but {self.__class__.__name__} was fitted without\"\n"
     ]
    }
   ],
   "source": [
    "\n",
    "svm = SVC(kernel='rbf', C=1,gamma=0.1)\n",
    "svm.fit(X_train, Y)\n",
    "y_pred = svm.predict(X_test_selected)\n",
    "\n",
    "# plot_confusion_matrix(svm, X_test_selected, Y_test)\n",
    "# plt.show()\n",
    "# report = classification_report(Y_test, y_pred)\n",
    "# print(report)"
   ]
  },
  {
   "attachments": {},
   "cell_type": "markdown",
   "id": "787c9ff6",
   "metadata": {},
   "source": [
    "## Output creation"
   ]
  },
  {
   "cell_type": "code",
   "execution_count": 25,
   "id": "fb1d54b4",
   "metadata": {
    "execution": {
     "iopub.execute_input": "2023-03-04T16:58:14.603735Z",
     "iopub.status.busy": "2023-03-04T16:58:14.603307Z",
     "iopub.status.idle": "2023-03-04T16:58:14.616364Z",
     "shell.execute_reply": "2023-03-04T16:58:14.615055Z"
    },
    "papermill": {
     "duration": 0.028337,
     "end_time": "2023-03-04T16:58:14.618934",
     "exception": false,
     "start_time": "2023-03-04T16:58:14.590597",
     "status": "completed"
    },
    "tags": []
   },
   "outputs": [
    {
     "data": {
      "text/html": [
       "<div>\n",
       "<style scoped>\n",
       "    .dataframe tbody tr th:only-of-type {\n",
       "        vertical-align: middle;\n",
       "    }\n",
       "\n",
       "    .dataframe tbody tr th {\n",
       "        vertical-align: top;\n",
       "    }\n",
       "\n",
       "    .dataframe thead th {\n",
       "        text-align: right;\n",
       "    }\n",
       "</style>\n",
       "<table border=\"1\" class=\"dataframe\">\n",
       "  <thead>\n",
       "    <tr style=\"text-align: right;\">\n",
       "      <th></th>\n",
       "      <th>PassengerId</th>\n",
       "      <th>Survived</th>\n",
       "    </tr>\n",
       "  </thead>\n",
       "  <tbody>\n",
       "    <tr>\n",
       "      <th>0</th>\n",
       "      <td>892</td>\n",
       "      <td>0</td>\n",
       "    </tr>\n",
       "    <tr>\n",
       "      <th>1</th>\n",
       "      <td>893</td>\n",
       "      <td>1</td>\n",
       "    </tr>\n",
       "    <tr>\n",
       "      <th>2</th>\n",
       "      <td>894</td>\n",
       "      <td>0</td>\n",
       "    </tr>\n",
       "    <tr>\n",
       "      <th>3</th>\n",
       "      <td>895</td>\n",
       "      <td>0</td>\n",
       "    </tr>\n",
       "    <tr>\n",
       "      <th>4</th>\n",
       "      <td>896</td>\n",
       "      <td>1</td>\n",
       "    </tr>\n",
       "    <tr>\n",
       "      <th>5</th>\n",
       "      <td>897</td>\n",
       "      <td>0</td>\n",
       "    </tr>\n",
       "    <tr>\n",
       "      <th>6</th>\n",
       "      <td>898</td>\n",
       "      <td>1</td>\n",
       "    </tr>\n",
       "    <tr>\n",
       "      <th>7</th>\n",
       "      <td>899</td>\n",
       "      <td>0</td>\n",
       "    </tr>\n",
       "    <tr>\n",
       "      <th>8</th>\n",
       "      <td>900</td>\n",
       "      <td>1</td>\n",
       "    </tr>\n",
       "    <tr>\n",
       "      <th>9</th>\n",
       "      <td>901</td>\n",
       "      <td>0</td>\n",
       "    </tr>\n",
       "  </tbody>\n",
       "</table>\n",
       "</div>"
      ],
      "text/plain": [
       "   PassengerId  Survived\n",
       "0          892         0\n",
       "1          893         1\n",
       "2          894         0\n",
       "3          895         0\n",
       "4          896         1\n",
       "5          897         0\n",
       "6          898         1\n",
       "7          899         0\n",
       "8          900         1\n",
       "9          901         0"
      ]
     },
     "execution_count": 25,
     "metadata": {},
     "output_type": "execute_result"
    }
   ],
   "source": [
    "model_submission = pd.DataFrame({\n",
    "    'PassengerId': df_test.index,\n",
    "    'Survived': y_pred\n",
    "})\n",
    "model_submission.head(10)"
   ]
  },
  {
   "cell_type": "code",
   "execution_count": 26,
   "id": "fb4e3bff",
   "metadata": {
    "execution": {
     "iopub.execute_input": "2023-03-04T16:58:14.642784Z",
     "iopub.status.busy": "2023-03-04T16:58:14.642382Z",
     "iopub.status.idle": "2023-03-04T16:58:14.654506Z",
     "shell.execute_reply": "2023-03-04T16:58:14.653285Z"
    },
    "papermill": {
     "duration": 0.027389,
     "end_time": "2023-03-04T16:58:14.657470",
     "exception": false,
     "start_time": "2023-03-04T16:58:14.630081",
     "status": "completed"
    },
    "tags": []
   },
   "outputs": [],
   "source": [
    "model_submission.to_csv('submission.csv',index = False)"
   ]
  }
 ],
 "metadata": {
  "kernelspec": {
   "display_name": "Python 3",
   "language": "python",
   "name": "python3"
  },
  "language_info": {
   "codemirror_mode": {
    "name": "ipython",
    "version": 3
   },
   "file_extension": ".py",
   "mimetype": "text/x-python",
   "name": "python",
   "nbconvert_exporter": "python",
   "pygments_lexer": "ipython3",
   "version": "3.11.2"
  },
  "papermill": {
   "default_parameters": {},
   "duration": 17.238096,
   "end_time": "2023-03-04T16:58:15.492560",
   "environment_variables": {},
   "exception": null,
   "input_path": "__notebook__.ipynb",
   "output_path": "__notebook__.ipynb",
   "parameters": {},
   "start_time": "2023-03-04T16:57:58.254464",
   "version": "2.4.0"
  }
 },
 "nbformat": 4,
 "nbformat_minor": 5
}
